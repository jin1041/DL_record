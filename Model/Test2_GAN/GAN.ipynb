{
 "cells": [
  {
   "cell_type": "code",
   "execution_count": 4,
   "metadata": {},
   "outputs": [],
   "source": [
    "import torch\n",
    "import torch.nn as nn\n",
    "import torch.optim as optim\n",
    "import torchvision\n",
    "from torchvision import datasets, transforms\n",
    "import matplotlib.pyplot as plt\n",
    "import os"
   ]
  },
  {
   "cell_type": "code",
   "execution_count": 5,
   "metadata": {},
   "outputs": [],
   "source": [
    "batch_size = 64\n",
    "z_dim = 100\n",
    "lr = 1e-3\n",
    "image_resolution = 28"
   ]
  },
  {
   "cell_type": "code",
   "execution_count": 8,
   "metadata": {},
   "outputs": [],
   "source": [
    "class Generator(nn.Module):\n",
    "    def __init__(self, z_dim = 100, img_dim = 1, resolution = 28) :\n",
    "        super(Generator, self).__init__()\n",
    "        self.z_dim = z_dim\n",
    "        self.img_dim = img_dim\n",
    "        self.resolution = resolution\n",
    "    \n",
    "        self.model = nn.Sequential(\n",
    "            nn.Linear(z_dim, 256),\n",
    "            nn.ReLU(),\n",
    "            nn.Linear(256, resolution * resolution * img_dim),\n",
    "            nn.Tanh()\n",
    "        )\n",
    "    \n",
    "    def forward(self, z):\n",
    "        # view方法用于将生成的图像张量重新调整为4D张量，形状为(batch_size, img_dim, resolution, resolution)，其中batch_size表示批量大小。\n",
    "        return self.model(z).view(-1, self.img_dim, self.resolution, self.resolution)\n",
    "    \n",
    "class Discriminator(nn.Module):\n",
    "    def __init__(self, img_dim = 1, resolution = 28) :\n",
    "        super(Discriminator, self).__init__()\n",
    "        self.img_dim = img_dim\n",
    "        self.resolution = resolution\n",
    "        \n",
    "        self.model = nn.Sequential(\n",
    "            nn.Linear(resolution * resolution * img_dim, 256), \n",
    "            nn.LeakyReLU(0.2),\n",
    "            nn.Linear(256, 1), \n",
    "            nn.Sigmoid()\n",
    "        )\n",
    "    \n",
    "    def forward(self, x):\n",
    "        return self.model(x.view(-1, self.img_dim * self.resolution * self.resolution))"
   ]
  },
  {
   "cell_type": "code",
   "execution_count": null,
   "metadata": {},
   "outputs": [],
   "source": []
  }
 ],
 "metadata": {
  "kernelspec": {
   "display_name": "Python 3",
   "language": "python",
   "name": "python3"
  },
  "language_info": {
   "codemirror_mode": {
    "name": "ipython",
    "version": 3
   },
   "file_extension": ".py",
   "mimetype": "text/x-python",
   "name": "python",
   "nbconvert_exporter": "python",
   "pygments_lexer": "ipython3",
   "version": "3.11.6"
  }
 },
 "nbformat": 4,
 "nbformat_minor": 2
}
